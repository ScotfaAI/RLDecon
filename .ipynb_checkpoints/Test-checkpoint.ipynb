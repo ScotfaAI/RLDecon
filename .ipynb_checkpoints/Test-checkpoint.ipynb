{
 "cells": [
  {
   "cell_type": "code",
   "execution_count": 1,
   "id": "190b1cdb-f3a6-4b30-9a8e-65c820e28b12",
   "metadata": {
    "scrolled": true
   },
   "outputs": [
    {
     "name": "stdout",
     "output_type": "stream",
     "text": [
      "Num GPUs Available:  1\n"
     ]
    },
    {
     "data": {
      "text/plain": [
       "[PhysicalDevice(name='/physical_device:GPU:0', device_type='GPU')]"
      ]
     },
     "execution_count": 1,
     "metadata": {},
     "output_type": "execute_result"
    }
   ],
   "source": [
    "import warnings\n",
    "warnings.simplefilter(action='ignore', category=FutureWarning)\n",
    "\n",
    "import numpy as np\n",
    "import bioformats.omexml as ome\n",
    "import tifffile\n",
    "import sys\n",
    "import argparse\n",
    "import os\n",
    "import logging\n",
    "import tensorflow as tf\n",
    "from skimage import exposure#, external\n",
    "from scipy import ndimage, signal, stats\n",
    "from math import floor, ceil\n",
    "from flowdec import data as fd_data\n",
    "from flowdec import psf as fd_psf\n",
    "from flowdec import restoration as fd_restoration\n",
    "from xml.etree import cElementTree as ElementTree\n",
    "#from tensorflow.python.compiler.mlcompute import mlcompute; \n",
    "#mlcompute.set_mlc_device(device_name='gpu')\n",
    "\n",
    "print(\"Num GPUs Available: \", len(tf.config.experimental.list_physical_devices('GPU')))\n",
    "tf.config.list_physical_devices('GPU')\n"
   ]
  },
  {
   "cell_type": "code",
   "execution_count": null,
   "id": "5e008861-904d-48e8-ab23-e85d57c6c7ee",
   "metadata": {},
   "outputs": [],
   "source": []
  },
  {
   "cell_type": "code",
   "execution_count": null,
   "id": "3abb772c-b961-4f2a-bee4-b1a903f88650",
   "metadata": {},
   "outputs": [],
   "source": [
    "\n",
    "\n",
    "dat = tifffile.imread(input_file_str)\n",
    "psf = np.genfromtxt(bead_image_file_str, delimiter=',')\n",
    "print(\"Data successfully read in \\n\")\n",
    "\n",
    "kernel = np.zeros(kernel_shape) #(51,51,51)) #Note may not work if this size is too big relative to the image\n",
    "for offset in [0,1]:\n",
    "    kernel[tuple((np.array(kernel.shape) - offset) // 2)] = 1\n",
    "#assume bead image at different resolution in z to actual data, and difference is a factor of 3.08 (308nm versus 100nm)\n",
    "#estimated and stored 3d psf, but assume here diagonal psf. Could adjust this, but already very close to diagonal\n",
    "kernel = ndimage.gaussian_filter(kernel, sigma=[np.sqrt(psf[2,2])/3.08,np.sqrt(psf[0,0]),np.sqrt(psf[1,1])])\n",
    "\n",
    "############\n",
    "\n",
    "data = np.copy(dat) \n",
    "res = np.zeros(data.shape)\n",
    "ndim = 3 #data.ndim \n",
    "algo = fd_restoration.RichardsonLucyDeconvolver(ndim, pad_mode='none', pad_min=[16,16,16]).initialize() \n",
    "tmp = algo.run(fd_data.Acquisition(data=data[0], kernel=kernel), niter=2)\n",
    "for tt in range(SizeT):\n",
    "    if tt%10==0:\n",
    "        print(str(tt)+' of ' + str(SizeT) + ' complete')\n",
    "    nonzero = data[tt][np.where(data[tt]>0)]\n",
    "    bkgd_mode = stats.mode(nonzero)[0][0]\n",
    "    bkgd_std = stats.tstd(nonzero)\n",
    "    indz,indy,indx = np.where(data[tt]==0)\n",
    "    data[tt,indz, indy, indx] = bkgd_mode + bkgd_std*np.random.randn(len(indz))\n",
    "    # Note that deconvolution initialization is best kept separate from \n",
    "    # execution since the \"initialize\" operation corresponds to creating \n",
    "    # a TensorFlow graph, which is a relatively expensive operation and \n",
    "    # should not be repeated across iterations if deconvolving more than \n",
    "    # one image\n",
    "    res[tt] = algo.run(fd_data.Acquisition(data=data[tt], kernel=kernel), niter=niter).data\n",
    "\n",
    "####################\n",
    "print('Done. Now writing to file\\n')\n",
    "# create numpy array with correct order\n",
    "if is_single_time_pt:\n",
    "    img5d = np.expand_dims(np.expand_dims(res, axis=1), axis=0) \n",
    "else:\n",
    "    img5d = np.expand_dims(res, axis=1)\n",
    "# write file and save OME-XML as description\n",
    "tifffile.imwrite(output_file_str, img5d, metadata={'axes': dimorder}, description=xml)\n",
    "print('All finished\\n')"
   ]
  }
 ],
 "metadata": {
  "kernelspec": {
   "display_name": "Python 3 (ipykernel)",
   "language": "python",
   "name": "python3"
  },
  "language_info": {
   "codemirror_mode": {
    "name": "ipython",
    "version": 3
   },
   "file_extension": ".py",
   "mimetype": "text/x-python",
   "name": "python",
   "nbconvert_exporter": "python",
   "pygments_lexer": "ipython3",
   "version": "3.8.18"
  }
 },
 "nbformat": 4,
 "nbformat_minor": 5
}
