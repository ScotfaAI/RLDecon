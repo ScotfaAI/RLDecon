{
 "cells": [
  {
   "cell_type": "code",
   "execution_count": 16,
   "id": "f6067d42-ef6d-47d0-b012-cefefe7e9086",
   "metadata": {},
   "outputs": [
    {
     "name": "stdout",
     "output_type": "stream",
     "text": [
      " Volume in drive Z is SYSTEM\n",
      " Volume Serial Number is ECF6-6273\n",
      "\n",
      " Directory of Z:\\Shared243\\storal\\2024-01-23_mc191\n",
      "\n",
      "15/02/2024  14:52    <DIR>          .\n",
      "20/02/2024  17:39    <DIR>          ..\n",
      "07/02/2024  10:38         3,484,463 488PSF.ome.tif\n",
      "07/02/2024  16:41                73 488PSF_sigma.csv\n",
      "23/01/2024  14:03         7,841,672 PSFs.sld\n",
      "23/01/2024  17:48    46,071,658,154 slide1.sld\n",
      "07/02/2024  15:42    71,967,135,033 slide1_deskewed.sld\n",
      "05/02/2024  20:42     2,248,488,799 slide1_deskewed_capture1_cropped_488.ome.tif\n",
      "14/02/2024  13:41     4,085,934,729 slide1_deskewed_capture1_cropped_merge_deconvolved.ims\n",
      "14/02/2024  13:20     4,354,120,629 slide1_deskewed_capture1_cropped_merge_deconvolved.tif\n",
      "05/02/2024  20:36     1,749,500,785 slide1_deskewed_capture4_cropped_488.ome.tif\n",
      "14/02/2024  13:42     3,133,630,327 slide1_deskewed_capture4_cropped_merge_deconvolved.ims\n",
      "14/02/2024  13:18     3,402,338,332 slide1_deskewed_capture4_cropped_merge_deconvolved.tif\n",
      "05/02/2024  20:44     1,980,043,664 slide1_deskewed_capture6_cropped_488.ome.tif\n",
      "14/02/2024  13:48     3,528,237,631 slide1_deskewed_capture6_cropped_merge_deconvolved.ims\n",
      "14/02/2024  13:19     3,840,886,253 slide1_deskewed_capture6_cropped_merge_deconvolved.tif\n",
      "08/02/2024  11:37     8,703,168,444 ST_2024-01-23_slide1_capture1_deskewed_cropped_MC191_488Ndc80EGFP_4sec-frames_NEBD-Ana_Spot-CH1_deconvolved_1_day_sigma.ome.tif\n",
      "08/02/2024  17:03     6,790,718,608 ST_2024-01-23_slide1_capture4_deskewed_cropped_MC191_488Ndc80EGFP_4sec-frames_NEBD-Ana_Spot-CH1_deconvolved_1_day_sigma.ome.tif\n",
      "08/02/2024  17:13     7,665,244,128 ST_2024-01-23_slide1_capture6_deskewed_cropped_MC191_488Ndc80EGFP_4sec-frames_NEBD-Ana_Spot-CH1_deconvolved_1_day_sigma.ome.tif\n",
      "              17 File(s) 169,532,431,724 bytes\n",
      "               2 Dir(s)  24,310,964,926,464 bytes free\n"
     ]
    }
   ],
   "source": [
    "ls Z:\\Shared243\\storal\\2024-01-23_mc191"
   ]
  },
  {
   "cell_type": "code",
   "execution_count": 17,
   "id": "5f9ea76e-1add-457c-91df-cd20e366be3a",
   "metadata": {},
   "outputs": [],
   "source": [
    "psf1 = 'Z:/Shared243/storal/2024-01-17_mc191/488PSF_sigma.csv'\n",
    "psf2 = 'Z:/Shared243/storal/2024-01-18_mc191/488PSF_sigma.csv'\n",
    "psf3 = 'Z:/Shared243/storal/2024-01-23_mc191/488PSF_sigma.csv'\n",
    "\n"
   ]
  },
  {
   "cell_type": "code",
   "execution_count": 18,
   "id": "6aefb855-9d17-4dc3-9d81-5d032a26283b",
   "metadata": {},
   "outputs": [],
   "source": [
    "import numpy as np\n",
    "\n",
    "def average_csv_files(file_paths):\n",
    "    # Read data from each CSV file into NumPy arrays\n",
    "    arrays = [np.genfromtxt(file_path, delimiter=',') for file_path in file_paths]\n",
    "\n",
    "    # Compute the element-wise average of the arrays\n",
    "    average_array = np.mean(arrays, axis=0)\n",
    "\n",
    "    return average_array\n",
    "\n",
    "# Paths to the CSV files\n",
    "csv_files = [psf1, psf2, psf3]\n",
    "\n",
    "# Compute the average of the CSV files\n",
    "average_data = average_csv_files(csv_files)\n",
    "\n",
    "# Optionally, save the average array to a new CSV file\n",
    "np.savetxt('average.csv', average_data, delimiter=',', fmt='%f')\n"
   ]
  },
  {
   "cell_type": "code",
   "execution_count": null,
   "id": "2a851a58-8588-4455-8dfa-471dd94287e1",
   "metadata": {},
   "outputs": [],
   "source": []
  },
  {
   "cell_type": "code",
   "execution_count": null,
   "id": "20e3198b",
   "metadata": {},
   "outputs": [],
   "source": []
  },
  {
   "cell_type": "code",
   "execution_count": 3,
   "id": "387f8c22",
   "metadata": {},
   "outputs": [],
   "source": [
    "import numpy as np\n",
    "from skimage.registration import phase_cross_correlation\n",
    "from scipy.ndimage import fourier_shift\n",
    "import tifffile\n",
    "\n",
    "def load_psf(paths):\n",
    "    \"\"\"Load PSF TIF files from the given paths.\"\"\"\n",
    "    psfs = [tifffile.imread(path) for path in paths]\n",
    "    return psfs\n",
    "\n",
    "def align_psfs(psfs):\n",
    "    \"\"\"Align PSFs using phase cross-correlation.\"\"\"\n",
    "    reference_psf = psfs[0]\n",
    "    aligned_psfs = [reference_psf]\n",
    "    \n",
    "    for psf in psfs[1:]:\n",
    "        shift, _, _ = phase_cross_correlation(reference_psf, psf, upsample_factor=10)\n",
    "        shifted_psf = np.real(np.fft.ifftn(fourier_shift(np.fft.fftn(psf), shift)))\n",
    "        aligned_psfs.append(shifted_psf)\n",
    "        \n",
    "    return aligned_psfs\n",
    "\n",
    "def average_psfs(psfs):\n",
    "    \"\"\"Average the aligned PSFs.\"\"\"\n",
    "    return np.mean(psfs, axis=0)\n",
    "\n",
    "def save_psf(psf, output_path):\n",
    "    \"\"\"Save the averaged PSF to a new TIF file.\"\"\"\n",
    "    tifffile.imwrite(output_path, psf.astype(np.float32))\n",
    "\n",
    "def main(psf_paths, output_path):\n",
    "    psfs = load_psf(psf_paths)\n",
    "    aligned_psfs = align_psfs(psfs)\n",
    "    averaged_psf = average_psfs(aligned_psfs)\n",
    "    save_psf(averaged_psf, output_path)\n",
    "\n",
    "# Example usage\n",
    "psf_paths = ['PSFs/2024_01_23_488PSF.ome.tif', 'PSFs/2024_01_25_488PSF.ome.tif', 'PSFs/2024_01_26_488PSF.ome.tif', 'PSFs/2024_01_30_488PSF.ome.tif']  # Update with your actual file paths\n",
    "output_path = 'PSFs/averaged_psf.tif'\n",
    "main(psf_paths, output_path)\n"
   ]
  },
  {
   "cell_type": "code",
   "execution_count": null,
   "id": "9f688d94",
   "metadata": {},
   "outputs": [],
   "source": []
  }
 ],
 "metadata": {
  "kernelspec": {
   "display_name": "Python 3 (ipykernel)",
   "language": "python",
   "name": "python3"
  },
  "language_info": {
   "codemirror_mode": {
    "name": "ipython",
    "version": 3
   },
   "file_extension": ".py",
   "mimetype": "text/x-python",
   "name": "python",
   "nbconvert_exporter": "python",
   "pygments_lexer": "ipython3",
   "version": "3.9.18"
  }
 },
 "nbformat": 4,
 "nbformat_minor": 5
}
