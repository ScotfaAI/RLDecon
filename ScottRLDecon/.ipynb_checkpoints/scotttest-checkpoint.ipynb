{
 "cells": [
  {
   "cell_type": "code",
   "execution_count": 2,
   "id": "68707978-b56a-487f-835f-e44814e599e0",
   "metadata": {},
   "outputs": [
    {
     "ename": "SyntaxError",
     "evalue": "invalid syntax (2881210668.py, line 1)",
     "output_type": "error",
     "traceback": [
      "\u001b[0;36m  Cell \u001b[0;32mIn[2], line 1\u001b[0;36m\u001b[0m\n\u001b[0;31m    python -c \"import cupy; cupy.show_config()\"\u001b[0m\n\u001b[0m              ^\u001b[0m\n\u001b[0;31mSyntaxError\u001b[0m\u001b[0;31m:\u001b[0m invalid syntax\n"
     ]
    }
   ],
   "source": [
    "import cupy as cp\n",
    "\n",
    "def create_frequency_filter_3d(shape, cutoff):\n",
    "    \"\"\"\n",
    "    Create a spherical low-pass frequency filter for 3D images using CuPy.\n",
    "\n",
    "    Parameters:\n",
    "    - shape: tuple, the shape of the filter (should match the image shape).\n",
    "    - cutoff: float, the cutoff frequency as a fraction of the Nyquist frequency.\n",
    "\n",
    "    Returns:\n",
    "    - CuPy array: the frequency filter.\n",
    "    \"\"\"\n",
    "    depth, rows, cols = shape\n",
    "    center_depth, center_row, center_col = depth // 2, rows // 2, cols // 2\n",
    "    z, y, x = cp.ogrid[:depth, :rows, :cols]\n",
    "    distance_from_center = cp.sqrt((x - center_col)**2 + (y - center_row)**2 + (z - center_depth)**2)\n",
    "    max_distance = cp.sqrt(center_col**2 + center_row**2 + center_depth**2)\n",
    "    filter = cp.where(distance_from_center / max_distance <= cutoff, 1, 0)\n",
    "    return filter\n",
    "\n",
    "def regularized_richardson_lucy_with_cutoff_3d(image, psf, iterations, regularization_constant=1e-2, cutoff_frequency=0.5):\n",
    "    \"\"\"\n",
    "    Perform Richardson-Lucy deconvolution in the frequency domain with regularization and high-frequency cutoff for 3D images using CuPy.\n",
    "\n",
    "    Parameters:\n",
    "    - image: CuPy array, the observed (blurred and noisy) 3D image.\n",
    "    - psf: CuPy array, the point spread function for 3D.\n",
    "    - iterations: int, the number of iterations to perform.\n",
    "    - regularization_constant: float, a small constant to avoid division by zero in the frequency domain.\n",
    "    - cutoff_frequency: float, the cutoff frequency as a fraction of the Nyquist frequency.\n",
    "\n",
    "    Returns:\n",
    "    - CuPy array: the deconvolved (restored) 3D image.\n",
    "    \"\"\"\n",
    "    # Convert the PSF to OTF (Optical Transfer Function)\n",
    "    otf = cp.fft.fftn(cp.fft.fftshift(psf), s=image.shape)\n",
    "\n",
    "    # Apply high-frequency cutoff\n",
    "    filter = create_frequency_filter_3d(image.shape, cutoff_frequency)\n",
    "    otf *= filter\n",
    "\n",
    "    # Add a small constant to the OTF to avoid division by zero\n",
    "    otf = cp.where(otf == 0, regularization_constant, otf)\n",
    "\n",
    "    # Fourier transform of the observed image\n",
    "    observed_ft = cp.fft.fftn(image)\n",
    "\n",
    "    # Initial guess is the observed image\n",
    "    estimate_ft = observed_ft.copy()\n",
    "\n",
    "    for _ in range(iterations):\n",
    "        # Convolution via multiplication in the frequency domain\n",
    "        estimated_image = cp.fft.ifftn(estimate_ft).real\n",
    "\n",
    "        # Avoid division by zero or small numbers in the correction factor\n",
    "        correction_factor = cp.maximum(cp.fft.ifftn(observed_ft / (estimate_ft + regularization_constant)).real, regularization_constant)\n",
    "\n",
    "        # Update estimate in the frequency domain\n",
    "        estimate_ft *= cp.fft.fftn(correction_factor) / (otf + regularization_constant)\n",
    "\n",
    "    # Return the final estimate in the spatial domain\n",
    "    return cp.fft.ifftn(estimate_ft).real\n",
    "\n",
    "# Note: Convert your numpy arrays to cupy arrays before using them with this function.\n",
    "# image_cp = cp.asarray(image)  # 'image' should be a 3D numpy array representing your 3D image\n",
    "# psf_cp = cp.asarray(psf)      # 'psf' should be a 3D numpy array representing your 3D PSF\n",
    "# deconvolved_image_cp = regularized_richardson_lucy_with_cutoff_3d(image_cp, psf_cp, iterations, regularization_constant, cutoff_frequency)\n",
    "# deconvolved_image_np = cp.asnumpy(deconvolved_image_cp)  # Convert back to NumPy array if needed\n"
   ]
  },
  {
   "cell_type": "code",
   "execution_count": 4,
   "id": "1ec3875e-e936-4273-9246-59be27d5911c",
   "metadata": {},
   "outputs": [],
   "source": [
    "from tifffile import tifffile\n",
    "image = tifffile.imread(\"../../../slide2_deskewed.tif\")\n",
    "psf = tifffile.imread(\"../../../488PSF.ome.tif\")"
   ]
  },
  {
   "cell_type": "code",
   "execution_count": 5,
   "id": "242d1841-7715-4b11-b6cc-4f91bda2cceb",
   "metadata": {},
   "outputs": [
    {
     "data": {
      "text/plain": [
       "(285, 59, 512, 754)"
      ]
     },
     "execution_count": 5,
     "metadata": {},
     "output_type": "execute_result"
    }
   ],
   "source": [
    "image.shape\n"
   ]
  },
  {
   "cell_type": "code",
   "execution_count": 6,
   "id": "c4171968-13fe-4884-9421-f46afd1d8471",
   "metadata": {},
   "outputs": [
    {
     "data": {
      "text/plain": [
       "(101, 128, 128)"
      ]
     },
     "execution_count": 6,
     "metadata": {},
     "output_type": "execute_result"
    }
   ],
   "source": [
    "psf.shape"
   ]
  },
  {
   "cell_type": "code",
   "execution_count": 7,
   "id": "86d58220-b054-4ddd-9533-8a5f4bebf0c2",
   "metadata": {},
   "outputs": [],
   "source": [
    "tifffile.imwrite(\"../../../slide2_deskewed_t1.tif\", image[0])"
   ]
  },
  {
   "cell_type": "code",
   "execution_count": null,
   "id": "086654cd-733c-4d65-90c8-016a1b3fe5c5",
   "metadata": {},
   "outputs": [],
   "source": []
  }
 ],
 "metadata": {
  "kernelspec": {
   "display_name": "Python 3 (ipykernel)",
   "language": "python",
   "name": "python3"
  },
  "language_info": {
   "codemirror_mode": {
    "name": "ipython",
    "version": 3
   },
   "file_extension": ".py",
   "mimetype": "text/x-python",
   "name": "python",
   "nbconvert_exporter": "python",
   "pygments_lexer": "ipython3",
   "version": "3.8.18"
  }
 },
 "nbformat": 4,
 "nbformat_minor": 5
}
