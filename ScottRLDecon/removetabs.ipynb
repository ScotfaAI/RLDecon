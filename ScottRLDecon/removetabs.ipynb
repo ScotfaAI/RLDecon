{
 "cells": [
  {
   "cell_type": "code",
   "execution_count": 1,
   "id": "2da99042-3a6e-48b5-88a8-32ed5e928359",
   "metadata": {},
   "outputs": [
    {
     "name": "stdout",
     "output_type": "stream",
     "text": [
      "All tabs have been replaced with four spaces.\n"
     ]
    }
   ],
   "source": [
    "# Path to your Python script\n",
    "file_path = 'rlgc.py'\n",
    "\n",
    "# Read the contents of the file\n",
    "with open(file_path, 'r') as file:\n",
    "    content = file.read()\n",
    "\n",
    "# Replace all tabs with four spaces\n",
    "content = content.replace('\\t', '    ')\n",
    "\n",
    "# Write the modified content back to the file\n",
    "with open(file_path, 'w') as file:\n",
    "    file.write(content)\n",
    "\n",
    "print(\"All tabs have been replaced with four spaces.\")\n"
   ]
  },
  {
   "cell_type": "code",
   "execution_count": null,
   "id": "d0ddab43-117d-4a32-a674-f74368435499",
   "metadata": {},
   "outputs": [],
   "source": []
  }
 ],
 "metadata": {
  "kernelspec": {
   "display_name": "Python 3 (ipykernel)",
   "language": "python",
   "name": "python3"
  },
  "language_info": {
   "codemirror_mode": {
    "name": "ipython",
    "version": 3
   },
   "file_extension": ".py",
   "mimetype": "text/x-python",
   "name": "python",
   "nbconvert_exporter": "python",
   "pygments_lexer": "ipython3",
   "version": "3.8.18"
  }
 },
 "nbformat": 4,
 "nbformat_minor": 5
}
