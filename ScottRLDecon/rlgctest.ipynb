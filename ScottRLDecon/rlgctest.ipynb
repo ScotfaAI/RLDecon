{
 "cells": [
  {
   "cell_type": "code",
   "execution_count": null,
   "id": "dafd84f8-4c55-4bd7-9cce-842229c3e9fc",
   "metadata": {},
   "outputs": [],
   "source": [
    "parser.add_argument('--input', type = str, required = True)\n",
    "parser.add_argument('--psf', type = str, required = True)\n",
    "parser.add_argument('--output', type = str, required = True)\n",
    "parser.add_argument('--max_iters', type = int, default = 10)\n",
    "parser.add_argument('--reblurred', type = str, required = False)\n",
    "parser.add_argument('--process_psf', type = int, default = 1)\n",
    "parser.add_argument('--rl_output', type = str, required = False)\n",
    "parser.add_argument('--limit', type = float, default = 0.01)\n",
    "parser.add_argument('--iters_output', type = str, required = False)\n",
    "parser.add_argument('--rl_iters_output', type = str, required = False)\n",
    "parser.add_argument('--updates_output', type = str, required = False)\n",
    "parser.add_argument('--blur_consensus', type = int, default = 1)"
   ]
  },
  {
   "cell_type": "code",
   "execution_count": null,
   "id": "9449b199-de85-443c-8667-8ec813a25176",
   "metadata": {},
   "outputs": [],
   "source": [
    "python rlgc.py --input \"../../../slide2_deskewed_t1.tif\" --psf \"../../../488PSF.ome.tif\" --output \"../../../slide2_deskewed_t1_rlgc.tif\" --max_iters 20 "
   ]
  }
 ],
 "metadata": {
  "kernelspec": {
   "display_name": "Python 3 (ipykernel)",
   "language": "python",
   "name": "python3"
  },
  "language_info": {
   "codemirror_mode": {
    "name": "ipython",
    "version": 3
   },
   "file_extension": ".py",
   "mimetype": "text/x-python",
   "name": "python",
   "nbconvert_exporter": "python",
   "pygments_lexer": "ipython3",
   "version": "3.9.18"
  }
 },
 "nbformat": 4,
 "nbformat_minor": 5
}
