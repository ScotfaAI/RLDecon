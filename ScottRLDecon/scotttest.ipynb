{
 "cells": [
  {
   "cell_type": "code",
   "execution_count": 14,
   "id": "68707978-b56a-487f-835f-e44814e599e0",
   "metadata": {},
   "outputs": [
    {
     "name": "stdout",
     "output_type": "stream",
     "text": [
      "Convergence reached at iteration 2.\n",
      "Total iterations executed: 3\n"
     ]
    }
   ],
   "source": [
    "\n",
    "def richardson_lucy_deconvolution(image, psf, iterations, use_otf=True, use_regularization=True, regularization_constant=1e-2, use_cutoff=False, cutoff_frequency=0.5, convergence_ratio=0.25):\n",
    "    \"\"\"\n",
    "    Perform Richardson-Lucy deconvolution with options for direct PSF usage, regularization, and high-frequency cutoff.\n",
    "\n",
    "    Parameters:\n",
    "    - image: CuPy array, the observed (blurred and noisy) image.\n",
    "    - psf: CuPy array, the point spread function.\n",
    "    - iterations: int, the number of iterations to perform.\n",
    "    - use_otf: bool, whether to convert the PSF to the OTF for frequency domain deconvolution.\n",
    "    - use_regularization: bool, whether to apply regularization.\n",
    "    - regularization_constant: float, to avoid division by zero if regularization is used.\n",
    "    - use_cutoff: bool, whether to apply a high-frequency cutoff filter (only applicable if use_otf is True).\n",
    "    - cutoff_frequency: float, the cutoff frequency as a fraction of the Nyquist frequency (used if use_cutoff is True).\n",
    "    - convergence_ratio: float, the ratio of the change in MSE to its initial value at which to stop the iterations.\n",
    "\n",
    "    Returns:\n",
    "    - CuPy array: the deconvolved image.\n",
    "    \"\"\"\n",
    "    if use_otf:\n",
    "        # Convert the PSF to OTF if using the frequency domain approach\n",
    "        otf = cp.fft.fftn(cp.fft.fftshift(psf), s=image.shape)\n",
    "        if use_cutoff:\n",
    "            # Apply high-frequency cutoff if enabled\n",
    "            filter = create_frequency_filter_3d(image.shape, cutoff_frequency)\n",
    "            otf *= filter\n",
    "        if use_regularization:\n",
    "            otf = cp.where(otf == 0, regularization_constant, otf)\n",
    "    else:\n",
    "        # Use the PSF directly in the spatial domain, only apply regularization in correction factor calculation\n",
    "        if use_regularization:\n",
    "            psf = cp.where(psf == 0, regularization_constant, psf)\n",
    "        # Ensure PSF is normalized for direct use\n",
    "        psf /= cp.sum(psf)\n",
    "\n",
    "    observed = cp.fft.fftn(image)\n",
    "    estimate = observed.copy()\n",
    "\n",
    "    for i in range(iterations):\n",
    "        if use_otf:\n",
    "            estimated_image = cp.fft.ifftn(estimate).real\n",
    "            correction_factor = cp.fft.ifftn(observed / (estimate + (regularization_constant if use_regularization else 0)))\n",
    "            estimate = estimate * (cp.fft.fftn(correction_factor.real) / otf)\n",
    "        else:\n",
    "            # Perform convolution in the spatial domain using the direct PSF\n",
    "            estimated_image = cp.signal.fftconvolve(estimate, psf, mode='same')\n",
    "            correction_factor = cp.signal.fftconvolve(image / estimated_image, psf[::-1, ::-1], mode='same')\n",
    "            estimate *= correction_factor\n",
    "\n",
    "        # Implement convergence check here if desired\n",
    "\n",
    "    print(f\"Total iterations executed: {i + 1}\")\n",
    "    return cp.fft.ifftn(estimate).real if use_otf else estimated_image\n",
    "\n",
    "def create_frequency_filter_3d(shape, cutoff):\n",
    "    depth, rows, cols = shape\n",
    "    center_depth, center_row, center_col = depth // 2, rows // 2, cols // 2\n",
    "    z, y, x = cp.ogrid[:depth, :rows, :cols]\n",
    "    distance_from_center = cp.sqrt((x - center_col)**2 + (y - center_row)**2 + (z - center_depth)**2)\n",
    "    max_distance = cp.sqrt(center_col**2 + center_row**2 + center_depth**2)\n",
    "    filter = cp.where(distance_from_center / max_distance <= cutoff, 1, 0)\n",
    "    return filter\n",
    "\n",
    "# Assuming `image` and `psf` are CuPy arrays of the observed image and PSF, respectively\n",
    "iterations = 20\n",
    "use_regularization = False  # Disable regularization\n",
    "use_cutoff = False  # Optionally, disable the cutoff filter as well\n",
    "use_otf=False\n",
    "\n",
    "# Note: Convert your numpy arrays to cupy arrays before using them with this function.\n",
    "image_cp = cp.asarray(image[0])  # 'image' should be a 3D numpy array representing your 3D image\n",
    "psf_cp = cp.asarray(psf)      # 'psf' should be a 3D numpy array representing your 3D PSF\n",
    "# deconvolved_image_cp = regularized_richardson_lucy_with_cutoff_3d(image_cp, psf_cp, iterations, regularization_constant, cutoff_frequency)\n",
    "# deconvolved_image_np = cp.asnumpy(deconvolved_image_cp)  # Convert back to NumPy array if needed\n",
    "deconvolved_image = regularized_richardson_lucy(image_cp, psf_cp, iterations, use_otf, use_regularization, use_cutoff=use_cutoff)\n",
    "\n",
    "# Convert back to NumPy array if necessary for further processing/display\n",
    "deconvolved_image_np = cp.asnumpy(deconvolved_image)\n"
   ]
  },
  {
   "cell_type": "code",
   "execution_count": 4,
   "id": "1ec3875e-e936-4273-9246-59be27d5911c",
   "metadata": {},
   "outputs": [],
   "source": [
    "from tifffile import tifffile\n",
    "image = tifffile.imread(\"../../../slide2_deskewed.tif\")\n",
    "psf = tifffile.imread(\"../../../488PSF.ome.tif\")"
   ]
  },
  {
   "cell_type": "code",
   "execution_count": 5,
   "id": "242d1841-7715-4b11-b6cc-4f91bda2cceb",
   "metadata": {},
   "outputs": [
    {
     "data": {
      "text/plain": [
       "(285, 59, 512, 754)"
      ]
     },
     "execution_count": 5,
     "metadata": {},
     "output_type": "execute_result"
    }
   ],
   "source": [
    "image.shape\n"
   ]
  },
  {
   "cell_type": "code",
   "execution_count": 6,
   "id": "c4171968-13fe-4884-9421-f46afd1d8471",
   "metadata": {},
   "outputs": [
    {
     "data": {
      "text/plain": [
       "(101, 128, 128)"
      ]
     },
     "execution_count": 6,
     "metadata": {},
     "output_type": "execute_result"
    }
   ],
   "source": [
    "psf.shape"
   ]
  },
  {
   "cell_type": "code",
   "execution_count": 7,
   "id": "86d58220-b054-4ddd-9533-8a5f4bebf0c2",
   "metadata": {},
   "outputs": [],
   "source": [
    "tifffile.imwrite(\"../../../slide2_deskewed_t1.tif\", image[0])"
   ]
  },
  {
   "cell_type": "code",
   "execution_count": 15,
   "id": "086654cd-733c-4d65-90c8-016a1b3fe5c5",
   "metadata": {},
   "outputs": [],
   "source": [
    "tifffile.imwrite(\"../../../slide2_deskewed_t1_decon.tif\",deconvolved_image_np)"
   ]
  },
  {
   "cell_type": "code",
   "execution_count": null,
   "id": "90f1d8b9-46de-4460-9119-f9c58af8ccaf",
   "metadata": {},
   "outputs": [],
   "source": []
  }
 ],
 "metadata": {
  "kernelspec": {
   "display_name": "Python 3 (ipykernel)",
   "language": "python",
   "name": "python3"
  },
  "language_info": {
   "codemirror_mode": {
    "name": "ipython",
    "version": 3
   },
   "file_extension": ".py",
   "mimetype": "text/x-python",
   "name": "python",
   "nbconvert_exporter": "python",
   "pygments_lexer": "ipython3",
   "version": "3.8.18"
  }
 },
 "nbformat": 4,
 "nbformat_minor": 5
}
